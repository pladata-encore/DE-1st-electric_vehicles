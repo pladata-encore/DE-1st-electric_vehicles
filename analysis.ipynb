{
 "cells": [
  {
   "cell_type": "code",
   "execution_count": null,
   "metadata": {},
   "outputs": [],
   "source": [
    "# custom libraries in src/\n",
    "import src.connect_to_db\n",
    "import src.evchargestations as evcs\n",
    "import src.naver_geocoding_api as nga\n",
    "import src.restareas"
   ]
  }
 ],
 "metadata": {
  "kernelspec": {
   "display_name": "Python 3",
   "language": "python",
   "name": "python3"
  },
  "language_info": {
   "name": "python",
   "version": "3.12.2"
  }
 },
 "nbformat": 4,
 "nbformat_minor": 2
}
